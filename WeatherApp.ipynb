{
  "nbformat": 4,
  "nbformat_minor": 0,
  "metadata": {
    "colab": {
      "provenance": []
    },
    "kernelspec": {
      "name": "python3",
      "display_name": "Python 3"
    },
    "language_info": {
      "name": "python"
    }
  },
  "cells": [
    {
      "cell_type": "code",
      "source": [
        "import requests\n",
        "\n",
        "api_key = 'YOUR_API_KEY'\n",
        "\n",
        "city = input('Enter city name: ')\n",
        "\n",
        "url = f'http://api.openweathermap.org/data/2.5/weather?q={city}&appid={api_key}'\n",
        "\n",
        "response = requests.get(url)\n",
        "\n",
        "if response.status_code == 200:\n",
        "    data = response.json()\n",
        "    temp = data['main']['temp']\n",
        "    desc = data['weather'][0]['description']\n",
        "    print(f'Temperature: {temp} K')\n",
        "    print(f'Description: {desc}')\n",
        "else:\n",
        "    print('Error fetching weather data')"
      ],
      "metadata": {
        "colab": {
          "base_uri": "https://localhost:8080/"
        },
        "id": "UGvtzvqlNE7D",
        "outputId": "e10a6ff9-cffd-4f59-e18c-0b8b2331bccd"
      },
      "execution_count": 9,
      "outputs": [
        {
          "output_type": "stream",
          "name": "stdout",
          "text": [
            "Enter city name: shamshabad\n",
            "Error fetching weather data\n"
          ]
        }
      ]
    }
  ]
}